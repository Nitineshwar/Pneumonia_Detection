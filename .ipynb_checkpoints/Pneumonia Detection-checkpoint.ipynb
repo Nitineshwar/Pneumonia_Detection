{
 "cells": [
  {
   "cell_type": "code",
   "execution_count": null,
   "id": "ee331559",
   "metadata": {},
   "outputs": [],
   "source": [
    "%matplotlib inline\n",
    "import numpy as np\n",
    "import os,random\n",
    "import tensorflow as tf\n",
    "import matplotlib.pyplot as plt\n",
    "import matplotlib.image as img\n",
    "from PIL import Image\n",
    "from tensorflow.keras.preprocessing.image import ImageDataGenerator\n",
    "print(tf.__version__)\n",
    "print(tf.config.list_physical_devices('GPU'))\n",
    "TRAIN_PATH=\"DATA/chest_xray/train/\"\n",
    "VAL_PATH=\"DATA/chest_xray/val/\"\n",
    "TEST_PATH=\"DATA/chest_xray/test/\"\n"
   ]
  },
  {
   "cell_type": "code",
   "execution_count": null,
   "id": "621be96a",
   "metadata": {},
   "outputs": [],
   "source": [
    "for img_class in os.listdir(TRAIN_PATH):\n",
    "    print(str(len(os.listdir(TRAIN_PATH + img_class ))) + \" \" + img_class + \" train images\")\n",
    "\n",
    "for img_class in os.listdir(VAL_PATH):\n",
    "    print(str(len(os.listdir(VAL_PATH + img_class ))) + \" \" + img_class + \" val images\")\n",
    "\n",
    "for img_class in os.listdir(TEST_PATH):\n",
    "    print(str(len(os.listdir(TEST_PATH + img_class ))) + \" \" + img_class + \" test images\")"
   ]
  },
  {
   "cell_type": "code",
   "execution_count": null,
   "id": "50f47c78",
   "metadata": {},
   "outputs": [],
   "source": [
    "np.random.seed(42)\n",
    "normal_image=np.random.choice(os.listdir(TRAIN_PATH+\"NORMAL/\"))\n",
    "im=img.imread(TRAIN_PATH+\"NORMAL/\"+normal_image)\n",
    "print(normal_image,im.shape)\n",
    "plt.imshow(im,cmap='gray')\n",
    "plt.show()"
   ]
  },
  {
   "cell_type": "code",
   "execution_count": null,
   "id": "9240268a",
   "metadata": {},
   "outputs": [],
   "source": [
    "np.random.seed(76)\n",
    "p_image=np.random.choice(os.listdir(TRAIN_PATH+\"PNEUMONIA/\"))\n",
    "im=img.imread(TRAIN_PATH+\"PNEUMONIA/\"+p_image)\n",
    "print(p_image,im.shape)\n",
    "plt.imshow(im,cmap='gray')\n",
    "plt.show()"
   ]
  },
  {
   "cell_type": "code",
   "execution_count": null,
   "id": "0f5902c5",
   "metadata": {},
   "outputs": [],
   "source": [
    "input_shape=(64,64)\n",
    "batch_size=32\n",
    "\n",
    "train_gen=ImageDataGenerator( rescale = 1./255,shear_range=0.3,\n",
    "                             zoom_range=0.3,horizontal_flip=True )\n",
    "\n",
    "train_data=train_gen.flow_from_directory( TRAIN_PATH,\n",
    "                                             target_size=input_shape,\n",
    "                                             batch_size=batch_size,\n",
    "                                             color_mode='grayscale',\n",
    "                                             class_mode='categorical',\n",
    "                                             shuffle=True,\n",
    "                                             seed=42 )\n"
   ]
  },
  {
   "cell_type": "code",
   "execution_count": null,
   "id": "3b19abe6",
   "metadata": {},
   "outputs": [],
   "source": [
    "val_gen=ImageDataGenerator( rescale=1./255 )\n",
    "\n",
    "val_data=val_gen.flow_from_directory( VAL_PATH,\n",
    "                                             target_size=input_shape,\n",
    "                                             batch_size=batch_size,\n",
    "                                             color_mode='grayscale',\n",
    "                                             class_mode='categorical')"
   ]
  },
  {
   "cell_type": "code",
   "execution_count": null,
   "id": "fea6c68d",
   "metadata": {},
   "outputs": [],
   "source": [
    "test_gen=ImageDataGenerator( rescale=1./255 )\n",
    "\n",
    "test_data=test_gen.flow_from_directory( TEST_PATH,\n",
    "                                      target_size=input_shape,\n",
    "                                      batch_size=batch_size,\n",
    "                                      color_mode='grayscale',\n",
    "                                      class_mode='categorical')\n"
   ]
  },
  {
   "cell_type": "code",
   "execution_count": null,
   "id": "0330ce81",
   "metadata": {},
   "outputs": [],
   "source": [
    "from tensorflow.keras.layers import Dense, Input, Dropout,Flatten, Conv2D\n",
    "from tensorflow.keras.layers import BatchNormalization, Activation, MaxPooling2D\n",
    "from tensorflow.keras.models import Model, Sequential\n",
    "from tensorflow.keras.optimizers import SGD,Adam\n",
    "from tensorflow.keras.metrics import Accuracy,Precision,Recall\n",
    "from livelossplot import PlotLossesKerasTF"
   ]
  },
  {
   "cell_type": "code",
   "execution_count": null,
   "id": "f545079f",
   "metadata": {},
   "outputs": [],
   "source": [
    "model1=Sequential([\n",
    "    \n",
    "    Conv2D(32,(3,3),input_shape=(64,64,1)),\n",
    "    BatchNormalization(),\n",
    "    Activation('relu'),\n",
    "    MaxPooling2D(pool_size=(2,2)),\n",
    "    \n",
    "    Conv2D(64,(3,3)),\n",
    "    BatchNormalization(),\n",
    "    Activation('relu'),\n",
    "    MaxPooling2D(pool_size=(2,2)),\n",
    "    \n",
    "    Conv2D(128,(3,3)),\n",
    "    BatchNormalization(),\n",
    "    Activation('relu'),\n",
    "    MaxPooling2D(pool_size=(2,2)),\n",
    "    \n",
    "    Flatten(),\n",
    "    \n",
    "    Dense(64),\n",
    "    BatchNormalization(),\n",
    "    Activation('relu'),\n",
    "    \n",
    "    Dense(2),\n",
    "    Activation('softmax')\n",
    "])"
   ]
  },
  {
   "cell_type": "code",
   "execution_count": null,
   "id": "17cdf77a",
   "metadata": {},
   "outputs": [],
   "source": [
    "opt=SGD(learning_rate=0.001,momentum=0.9)\n",
    "model1.compile(optimizer= opt,loss='categorical_crossentropy',metrics=['accuracy'])\n",
    "model1.summary()"
   ]
  },
  {
   "cell_type": "code",
   "execution_count": null,
   "id": "ea79c0be",
   "metadata": {},
   "outputs": [],
   "source": [
    "epochs = 10\n",
    "steps_per_epoch = train_data.n//train_data.batch_size\n",
    "validation_steps = val_data.n//val_data.batch_size\n",
    "\n",
    "#reduce_lr = ReduceLROnPlateau(monitor='val_loss', factor=0.1,patience=2, min_lr=0.00001, mode='auto')\n",
    "#checkpoint = ModelCheckpoint(\"model_weights.h5\", monitor='val_accuracy',\n",
    "                             #save_weights_only=True, mode='max', verbose=1)\n",
    "plotlosses = PlotLossesKerasTF()\n",
    "\n",
    "history = model1.fit(\n",
    "    x=train_data,\n",
    "    steps_per_epoch=steps_per_epoch,\n",
    "    epochs=epochs,\n",
    "    validation_data = val_data,\n",
    "    validation_steps = validation_steps,\n",
    "    callbacks=[plotlosses]\n",
    ")"
   ]
  },
  {
   "cell_type": "code",
   "execution_count": null,
   "id": "783c5aac",
   "metadata": {},
   "outputs": [],
   "source": [
    "model1.evaluate(val_data)"
   ]
  },
  {
   "cell_type": "code",
   "execution_count": null,
   "id": "c7f10b6b",
   "metadata": {},
   "outputs": [],
   "source": [
    "model1.save(\"model1.h5\")"
   ]
  },
  {
   "cell_type": "code",
   "execution_count": null,
   "id": "0042f88b",
   "metadata": {},
   "outputs": [],
   "source": [
    "N=\n",
    "class_weights"
   ]
  }
 ],
 "metadata": {
  "kernelspec": {
   "display_name": "Python 3 (ipykernel)",
   "language": "python",
   "name": "python3"
  },
  "language_info": {
   "codemirror_mode": {
    "name": "ipython",
    "version": 3
   },
   "file_extension": ".py",
   "mimetype": "text/x-python",
   "name": "python",
   "nbconvert_exporter": "python",
   "pygments_lexer": "ipython3",
   "version": "3.7.11"
  }
 },
 "nbformat": 4,
 "nbformat_minor": 5
}
